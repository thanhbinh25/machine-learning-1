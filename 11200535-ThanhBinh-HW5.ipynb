{
 "cells": [
  {
   "cell_type": "code",
   "execution_count": 23,
   "id": "16a90c18",
   "metadata": {},
   "outputs": [],
   "source": [
    "import pandas as pd\n",
    "import numpy as np\n",
    "import matplotlib.pyplot as plt"
   ]
  },
  {
   "cell_type": "code",
   "execution_count": 24,
   "id": "e166fed7",
   "metadata": {},
   "outputs": [
    {
     "data": {
      "text/html": [
       "<div>\n",
       "<style scoped>\n",
       "    .dataframe tbody tr th:only-of-type {\n",
       "        vertical-align: middle;\n",
       "    }\n",
       "\n",
       "    .dataframe tbody tr th {\n",
       "        vertical-align: top;\n",
       "    }\n",
       "\n",
       "    .dataframe thead th {\n",
       "        text-align: right;\n",
       "    }\n",
       "</style>\n",
       "<table border=\"1\" class=\"dataframe\">\n",
       "  <thead>\n",
       "    <tr style=\"text-align: right;\">\n",
       "      <th></th>\n",
       "      <th>Lương</th>\n",
       "      <th>Thời gian làm việc</th>\n",
       "      <th>Cho vay</th>\n",
       "    </tr>\n",
       "  </thead>\n",
       "  <tbody>\n",
       "    <tr>\n",
       "      <th>0</th>\n",
       "      <td>10</td>\n",
       "      <td>1.0</td>\n",
       "      <td>1</td>\n",
       "    </tr>\n",
       "    <tr>\n",
       "      <th>1</th>\n",
       "      <td>5</td>\n",
       "      <td>2.0</td>\n",
       "      <td>1</td>\n",
       "    </tr>\n",
       "    <tr>\n",
       "      <th>2</th>\n",
       "      <td>6</td>\n",
       "      <td>1.8</td>\n",
       "      <td>1</td>\n",
       "    </tr>\n",
       "    <tr>\n",
       "      <th>3</th>\n",
       "      <td>7</td>\n",
       "      <td>1.0</td>\n",
       "      <td>1</td>\n",
       "    </tr>\n",
       "    <tr>\n",
       "      <th>4</th>\n",
       "      <td>8</td>\n",
       "      <td>2.0</td>\n",
       "      <td>1</td>\n",
       "    </tr>\n",
       "  </tbody>\n",
       "</table>\n",
       "</div>"
      ],
      "text/plain": [
       "   Lương  Thời gian làm việc  Cho vay\n",
       "0     10                 1.0        1\n",
       "1      5                 2.0        1\n",
       "2      6                 1.8        1\n",
       "3      7                 1.0        1\n",
       "4      8                 2.0        1"
      ]
     },
     "execution_count": 24,
     "metadata": {},
     "output_type": "execute_result"
    }
   ],
   "source": [
    "url = 'https://raw.githubusercontent.com/nttuan8/DL_Tutorial/master/L2/dataset.csv'\n",
    "df = pd.read_csv(url)\n",
    "df.head()"
   ]
  },
  {
   "cell_type": "code",
   "execution_count": 25,
   "id": "6f395495",
   "metadata": {},
   "outputs": [],
   "source": [
    "df = df.values\n",
    "N, d = df.shape\n",
    "x = df[:, 0:d-1].reshape(-1, d-1)\n",
    "y = df[:, 2].reshape(-1, 1)"
   ]
  },
  {
   "cell_type": "code",
   "execution_count": 26,
   "id": "ebe2c84e",
   "metadata": {},
   "outputs": [],
   "source": [
    "def sigmoid(x):\n",
    "        return 1.0 / (1.0+np.exp(-x))\n",
    "    \n",
    "class LogisticRegression:\n",
    "    def __init__(self, num_of_iteration, lr, w = None):\n",
    "        self.w = w\n",
    "        self.num_of_iteration = num_of_iteration\n",
    "        self.lr = lr\n",
    "        \n",
    "    def coef(self):\n",
    "        return self.w\n",
    "        \n",
    "    def fit(self, x, y):\n",
    "        N, d = x.shape\n",
    "        x = np.hstack((np.ones((N, 1)), x))\n",
    "        self.w = np.array([0.,0.1,0.1]).reshape(-1,1)\n",
    "        for i in range(1, self.num_of_iteration):\n",
    "            y_predict = sigmoid(np.dot(x, self.w))\n",
    "            cost = -np.sum(np.multiply(y, np.log(y_predict)) + np.multiply(1-y, np.log(1-y_predict)))\n",
    "            self.w = self.w - self.lr * np.dot(x.T, y_predict - y)"
   ]
  },
  {
   "cell_type": "code",
   "execution_count": 27,
   "id": "9b12394c",
   "metadata": {},
   "outputs": [],
   "source": [
    "model = LogisticRegression(num_of_iteration=1000, lr=0.01)"
   ]
  },
  {
   "cell_type": "code",
   "execution_count": 28,
   "id": "08970b16",
   "metadata": {},
   "outputs": [
    {
     "data": {
      "text/plain": [
       "array([[-7.25683504],\n",
       "       [ 0.62975152],\n",
       "       [ 3.6436906 ]])"
      ]
     },
     "execution_count": 28,
     "metadata": {},
     "output_type": "execute_result"
    }
   ],
   "source": [
    "model.fit(x, y)\n",
    "model.coef()"
   ]
  },
  {
   "cell_type": "code",
   "execution_count": 29,
   "id": "7a474bbd",
   "metadata": {},
   "outputs": [
    {
     "data": {
      "image/png": "[encoded data removed]",
      "text/plain": [
       "<Figure size 432x288 with 1 Axes>"
      ]
     },
     "metadata": {
      "needs_background": "light"
     },
     "output_type": "display_data"
    }
   ],
   "source": [
    "plt.scatter(x[:10, 0], x[:10, 1], c='red', edgecolors='none', s=30, label='cho vay')\n",
    "plt.scatter(x[10:, 0], x[10:, 1], c='blue', edgecolors='none', s=30, label='từ chối')\n",
    "plt.legend(loc=1)\n",
    "plt.xlabel('mức lương (triệu)')\n",
    "plt.ylabel('kinh nghiệm (năm)')\n",
    "\n",
    "t = 0.5\n",
    "plt.plot((4, 10),(-(model.w[0]+4*model.w[1]+ np.log(1/t-1))/model.w[2], -(model.w[0] + 10*model.w[1]+ np.log(1/t-1))/model.w[2]), 'g')\n",
    "plt.show()"
   ]
  }
 ],
 "metadata": {
  "kernelspec": {
   "display_name": "Python 3",
   "language": "python",
   "name": "python3"
  },
  "language_info": {
   "codemirror_mode": {
    "name": "ipython",
    "version": 3
   },
   "file_extension": ".py",
   "mimetype": "text/x-python",
   "name": "python",
   "nbconvert_exporter": "python",
   "pygments_lexer": "ipython3",
   "version": "3.8.8"
  }
 },
 "nbformat": 4,
 "nbformat_minor": 5
}
